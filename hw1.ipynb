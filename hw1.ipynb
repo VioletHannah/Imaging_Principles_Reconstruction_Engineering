{
 "cells": [
  {
   "metadata": {
    "ExecuteTime": {
     "end_time": "2025-10-11T02:22:17.060047Z",
     "start_time": "2025-10-11T02:22:17.040030Z"
    }
   },
   "cell_type": "code",
   "source": "print(\"test\")",
   "id": "d3cb13ab3032283c",
   "outputs": [
    {
     "name": "stdout",
     "output_type": "stream",
     "text": [
      "test\n"
     ]
    }
   ],
   "execution_count": 1
  },
  {
   "metadata": {
    "ExecuteTime": {
     "end_time": "2025-10-11T12:53:03.469533Z",
     "start_time": "2025-10-11T12:53:03.433780Z"
    }
   },
   "cell_type": "code",
   "source": [
    "import numpy as np\n",
    "theta = 30\n",
    "img = np.random.randint(0, 255, size=(9, 6))\n",
    "img_rows, img_cols = img.shape\n",
    "# 计算图像对角线长度（投影的最大范围）\n",
    "diag_length = int(np.ceil(np.sqrt(img_rows**2 + img_cols**2)))\n",
    "projection = np.zeros(diag_length)\n",
    "theta_rad = np.deg2rad(theta)\n",
    "half_col = img_cols // 2\n",
    "half_row = img_rows // 2\n",
    "x = np.arange(-half_col, img_cols - half_col)\n",
    "x_centers = np.arange(img_cols) - (img_cols - 1) / 2.0\n",
    "y = np.arange(-half_row, img_rows - half_row)\n",
    "X, Y = np.meshgrid(x, y)\n",
    "X_rotat = X * np.cos(theta_rad) - Y * np.sin(theta_rad)\n",
    "x_centers"
   ],
   "id": "d69c0c0ad213eaf",
   "outputs": [
    {
     "data": {
      "text/plain": [
       "array([-2.5, -1.5, -0.5,  0.5,  1.5,  2.5])"
      ]
     },
     "execution_count": 44,
     "metadata": {},
     "output_type": "execute_result"
    }
   ],
   "execution_count": 44
  },
  {
   "metadata": {
    "ExecuteTime": {
     "end_time": "2025-10-11T03:54:52.211940Z",
     "start_time": "2025-10-11T03:54:52.200938Z"
    }
   },
   "cell_type": "code",
   "source": "img",
   "id": "d22a69b5c20988a2",
   "outputs": [
    {
     "data": {
      "text/plain": [
       "array([[ 70, 144, 221,   9,   5, 105],\n",
       "       [111, 243, 188,  68, 197, 232],\n",
       "       [138,  37, 171, 226, 149, 231],\n",
       "       [ 24,  93, 106,  91, 176, 251],\n",
       "       [ 32, 143, 247,  68, 146,  28],\n",
       "       [ 55, 125, 236, 254,  21,  37],\n",
       "       [241, 195, 211,  66, 242,  24],\n",
       "       [139,  33, 197, 117, 184, 208],\n",
       "       [ 32, 132,  52, 224, 155,   7]])"
      ]
     },
     "execution_count": 39,
     "metadata": {},
     "output_type": "execute_result"
    }
   ],
   "execution_count": 39
  },
  {
   "metadata": {
    "ExecuteTime": {
     "end_time": "2025-10-11T03:57:03.313623Z",
     "start_time": "2025-10-11T03:57:03.293416Z"
    }
   },
   "cell_type": "code",
   "source": "np.zeros(10)",
   "id": "f2432fe7c1c961f7",
   "outputs": [
    {
     "data": {
      "text/plain": [
       "array([0., 0., 0., 0., 0., 0., 0., 0., 0., 0.])"
      ]
     },
     "execution_count": 42,
     "metadata": {},
     "output_type": "execute_result"
    }
   ],
   "execution_count": 42
  },
  {
   "metadata": {
    "ExecuteTime": {
     "end_time": "2025-10-11T12:52:24.974339Z",
     "start_time": "2025-10-11T12:52:24.917537Z"
    }
   },
   "cell_type": "code",
   "source": [
    "import numpy as np\n",
    "\n",
    "def parallel_projection(img, theta_deg, width=1.0):\n",
    "    \"\"\"\n",
    "    近似平行投影\n",
    "    - img: 2D 灰度图像（numpy array）\n",
    "    - theta_deg: 投影角度，度\n",
    "    - width: 条带宽（像素），默认 1.0，相当于 half=0.5（半宽）\n",
    "    返回:\n",
    "      projection: 1D array，长度 = diag_length (整型)\n",
    "    \"\"\"\n",
    "    img_rows, img_cols = img.shape\n",
    "    x_centers = np.arange(img_cols) - (img_cols - 1) / 2.0\n",
    "    y_centers = np.arange(img_rows) - (img_rows - 1) / 2.0\n",
    "    # X[r,c] 给出像素 (r,c) 的 x 坐标；Y[r,c] 给出像素 (r,c) 的 y 坐标\n",
    "    X, Y = np.meshgrid(x_centers, y_centers)   # both shape (img_rows, img_cols)\n",
    "    diag_length = int(np.ceil(np.hypot(img_rows, img_cols)))\n",
    "    s_coords = np.linspace(-(diag_length - 1) / 2.0, (diag_length - 1) / 2.0, diag_length)\n",
    "    theta = np.deg2rad(theta_deg)\n",
    "    # X_rot 表示每个像素中心在投影轴上的坐标 s = x*cosθ - y*sinθ, cuz y 轴是向下的\n",
    "    X_rot = X * np.cos(theta) - Y * np.sin(theta)\n",
    "\n",
    "    half = width / 2.0\n",
    "    projection = np.zeros_like(s_coords)\n",
    "    for i, s in enumerate(s_coords):\n",
    "        # mask 表示哪些像素的投影坐标落在 [s-half, s+half)\n",
    "        mask = np.abs(X_rot - s) <= half\n",
    "        # 累加被选像素的强度\n",
    "        projection[i] = np.sum(img[mask])\n",
    "\n",
    "    return projection"
   ],
   "id": "f8c19743aa5cae18",
   "outputs": [],
   "execution_count": 43
  },
  {
   "metadata": {
    "ExecuteTime": {
     "end_time": "2025-10-19T06:42:24.470368Z",
     "start_time": "2025-10-19T06:42:24.457365Z"
    }
   },
   "cell_type": "code",
   "source": [
    "import numpy as np\n",
    "\n",
    "def backproject(sinogram, thetas, output_shape, width=1.0):\n",
    "    \"\"\"\n",
    "    简单反投影函数，将sinogram反投影为图像\n",
    "    参数:\n",
    "        sinogram: 正弦图，形状为(num_angles, diag_length)\n",
    "        thetas: 投影角度列表(度)，与sinogram的行对应\n",
    "        output_shape: 输出图像的形状 (rows, cols)\n",
    "        width: 条带宽，需与正投影时保持一致，默认1.0\n",
    "    返回:\n",
    "        recon: 反投影重建的图像\n",
    "    \"\"\"\n",
    "    img_rows, img_cols = output_shape\n",
    "    num_angles, diag_length = sinogram.shape\n",
    "\n",
    "    # 初始化重建图像\n",
    "    recon = np.zeros(output_shape, dtype=np.float64)\n",
    "\n",
    "    # 计算像素中心相对于图像中心的坐标\n",
    "    x_centers = np.arange(img_cols) - (img_cols - 1) / 2.0\n",
    "    y_centers = np.arange(img_rows) - (img_rows - 1) / 2.0\n",
    "    X, Y = np.meshgrid(x_centers, y_centers)  # 形状均为(img_rows, img_cols)\n",
    "\n",
    "    # 生成投影轴s的坐标（与正投影保持一致）\n",
    "    s_coords = np.linspace(-(diag_length - 1) / 2.0,\n",
    "                          (diag_length - 1) / 2.0,\n",
    "                          diag_length)\n",
    "    s0 = s_coords[0]  # s坐标的起始值\n",
    "    half = width / 2.0\n",
    "\n",
    "    # 对每个角度进行反投影\n",
    "    for i_theta in range(num_angles):\n",
    "        theta_deg = thetas[i_theta]\n",
    "        theta = np.deg2rad(theta_deg)\n",
    "\n",
    "        # 计算该角度下每个像素的投影坐标s = x*cosθ - y*sinθ\n",
    "        X_rot = X * np.cos(theta) - Y * np.sin(theta)\n",
    "\n",
    "        # 计算每个像素对应的投影索引\n",
    "        i_s = np.round(X_rot - s0).astype(int)\n",
    "        # 确保索引在有效范围内\n",
    "        i_s = np.clip(i_s, 0, diag_length - 1)\n",
    "\n",
    "        # 获取当前角度的投影值并反投影到图像\n",
    "        projection = sinogram[i_theta]\n",
    "        recon += projection[i_s] # 等价于对每个像素做 recon[r,c] += projection[i_s[r,c]]\n",
    "\n",
    "    return recon"
   ],
   "id": "e69d4b802d511298",
   "outputs": [],
   "execution_count": 4
  },
  {
   "metadata": {
    "ExecuteTime": {
     "end_time": "2025-10-19T06:42:25.285691Z",
     "start_time": "2025-10-19T06:42:25.198521Z"
    }
   },
   "cell_type": "code",
   "source": [
    "import cv2\n",
    "def load_image(path):\n",
    "    \"\"\"读取图像并转为灰度图\"\"\"\n",
    "    img = cv2.imread(path, cv2.IMREAD_GRAYSCALE)\n",
    "    if img is None:\n",
    "        raise FileNotFoundError(f\"无法读取图像: {path}\")\n",
    "\n",
    "    return img\n",
    "\n",
    "def parallel_projection(img, theta_deg, width=1.0):\n",
    "    \"\"\"\n",
    "    近似平行投影\n",
    "    - img: 2D 灰度图像（numpy array）\n",
    "    - theta_deg: 投影角度，度\n",
    "    - width: 条带宽（像素），默认 1.0，相当于 half=0.5（半宽）\n",
    "    返回:\n",
    "      projection: 1D array，长度 = diag_length (整型)\n",
    "    \"\"\"\n",
    "    img_rows, img_cols = img.shape\n",
    "    x_centers = np.arange(img_cols) - (img_cols - 1) / 2.0\n",
    "    y_centers = np.arange(img_rows) - (img_rows - 1) / 2.0\n",
    "    # X[r,c] 给出像素 (r,c) 的 x 坐标；Y[r,c] 给出像素 (r,c) 的 y 坐标\n",
    "    X, Y = np.meshgrid(x_centers, y_centers)   # both shape (img_rows, img_cols)\n",
    "    diag_length = int(np.ceil(np.hypot(img_rows, img_cols)))\n",
    "    s_coords = np.linspace(-(diag_length - 1) / 2.0, (diag_length - 1) / 2.0, diag_length)\n",
    "    theta = np.deg2rad(theta_deg)\n",
    "    # X_rot 表示每个像素中心在投影轴上的坐标 s = x*cosθ - y*sinθ, cuz y 轴是向下的\n",
    "    X_rot = X * np.cos(theta) - Y * np.sin(theta)\n",
    "\n",
    "    half = width / 2.0\n",
    "    projection = np.zeros_like(s_coords)\n",
    "    for i, s in enumerate(s_coords):\n",
    "        # mask 表示哪些像素的投影坐标落在 [s-half, s+half)\n",
    "        mask = np.abs(X_rot - s) <= half\n",
    "        # 累加被选像素的强度\n",
    "        projection[i] = np.sum(img[mask])\n",
    "\n",
    "    return projection\n",
    "\n",
    "def generate_sinogram(img, thetas, width=1.0):\n",
    "    \"\"\"\n",
    "    对一组角度生成 sinogram\n",
    "    返回数组形状: (num_angles, diag_length)\n",
    "    \"\"\"\n",
    "    projs = [parallel_projection(img, th, width=width) for th in thetas]\n",
    "    sinogram = np.vstack(projs)  # 每行对应一个角度\n",
    "    return sinogram\n",
    "\n"
   ],
   "id": "4bdea23b4482863e",
   "outputs": [],
   "execution_count": 5
  },
  {
   "metadata": {
    "ExecuteTime": {
     "end_time": "2025-10-19T06:42:26.692789Z",
     "start_time": "2025-10-19T06:42:25.998180Z"
    }
   },
   "cell_type": "code",
   "source": [
    "img_size = 128\n",
    "im = load_image('phantom.bmp')\n",
    "imf = im.astype(np.float32) / 255.0\n",
    "img = cv2.resize(imf, (img_size, img_size), interpolation=cv2.INTER_AREA)\n",
    "sinogram = generate_sinogram(img, thetas=np.arange(0, 180, 1), width=1.0)\n",
    "recon = backproject(sinogram, thetas=np.arange(0, 180, 1), output_shape=img.shape, width=1.0)"
   ],
   "id": "b273c4441fa05732",
   "outputs": [],
   "execution_count": 6
  },
  {
   "metadata": {
    "ExecuteTime": {
     "end_time": "2025-10-19T06:42:27.376063Z",
     "start_time": "2025-10-19T06:42:27.360059Z"
    }
   },
   "cell_type": "code",
   "source": [
    "import numpy as np\n",
    "recon_freq = np.fft.fft2(recon)"
   ],
   "id": "cebbb1da4586bb56",
   "outputs": [],
   "execution_count": 7
  },
  {
   "metadata": {},
   "cell_type": "code",
   "outputs": [],
   "execution_count": null,
   "source": "",
   "id": "d137cab2c0ee28d8"
  }
 ],
 "metadata": {
  "kernelspec": {
   "name": "python3",
   "language": "python",
   "display_name": "Python 3"
  }
 },
 "nbformat": 5,
 "nbformat_minor": 9
}
